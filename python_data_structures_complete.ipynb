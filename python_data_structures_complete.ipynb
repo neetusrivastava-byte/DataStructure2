{
 "cells": [
  {
   "cell_type": "markdown",
   "id": "c13eaf2d",
   "metadata": {},
   "source": [
    "# Complete Solutions — Data Types & Structures Assignment\n",
    "\n",
    "This notebook contains **100%** of the answers (theory + practical code) for the provided PW Skills assignment PDF."
   ]
  },
  {
   "cell_type": "markdown",
   "id": "47aff634",
   "metadata": {},
   "source": [
    "\n",
    "## Theory Questions — Answers\n",
    "\n",
    "**Q1: What are data structures, and why are they important?**\n",
    "\n",
    "**Answer:** Data structures are ways to store and organize data so it can be used efficiently. They are important because they affect performance (time and memory), determine how data is accessed and modified, and help solve problems effectively.\n",
    "\n",
    "**Q2: Differentiate between mutable and immutable data types with examples.**\n",
    "\n",
    "**Answer:** Mutable types can be changed after creation (e.g., `list`, `dict`, `set`). Immutable types cannot be changed (e.g., `int`, `float`, `str`, `tuple`).\n",
    "\n",
    "**Q3: What are the main differences between lists and tuples in Python 3?**\n",
    "\n",
    "**Answer:** Lists are mutable and use `[]`. Tuples are immutable and use `()`. Lists support methods like `.append()` and `.remove()`; tuples are typically faster and can be used as dictionary keys when they contain only immutable elements.\n",
    "\n",
    "**Q4: Describe how dictionaries store data.**\n",
    "\n",
    "**Answer:** Dictionaries store data as key–value pairs. Internally they use a hash table where a key's hash determines where the value is stored. This allows average O(1) time complexity for lookups, inserts, and deletions.\n",
    "\n",
    "**Q5: Why might you use a set instead of a list in Python 3?**\n",
    "\n",
    "**Answer:** Use a set when you need uniqueness of elements and fast membership tests (average O(1) membership). Sets do not preserve order and do not allow duplicates.\n",
    "\n",
    "**Q6: What is a string in Python, and how is it different from a list?**\n",
    "\n",
    "**Answer:** A string is an immutable sequence of characters. A list is a mutable sequence that can contain elements of different types. Strings support string-specific methods and are immutable, so operations return new strings.\n",
    "\n",
    "**Q7: How do tuples ensure data integrity in Python 3?**\n",
    "\n",
    "**Answer:** Because tuples are immutable, their contents cannot be changed after creation, which prevents accidental modification and is useful when a fixed collection of items is required.\n",
    "\n",
    "**Q8: What is a hash table, and how does it relate to dictionaries in Python 3?**\n",
    "\n",
    "**Answer:** A hash table maps keys to values using a hash function. Python dictionaries are implemented using hash tables: a key is hashed to find an index where its value is stored.\n",
    "\n",
    "**Q9: Can lists contain different data types in Python 3?**\n",
    "\n",
    "**Answer:** Yes. Lists are heterogeneous and can contain integers, strings, objects, other lists, etc.\n",
    "\n",
    "**Q10: Explain why strings are immutable in Python.**\n",
    "\n",
    "**Answer:** Strings are immutable to allow safe sharing, efficient caching, and use as dictionary keys. Immutability ensures their hash value doesn't change over time.\n",
    "\n",
    "**Q11: What advantages do dictionaries offer over lists for certain tasks?**\n",
    "\n",
    "**Answer:** Dictionaries provide fast key-based lookup, clear mapping semantics (key → value), and are ideal when you need associative arrays or quick access by unique identifiers.\n",
    "\n",
    "**Q12: Describe a scenario where using a tuple would be preferred over a list.**\n",
    "\n",
    "**Answer:** Use a tuple for fixed sets of values (e.g., coordinates `(x, y)`), when immutability is desired, or when the tuple will be used as a dictionary key.\n",
    "\n",
    "**Q13: How do sets handle duplicate values in Python 3?**\n",
    "\n",
    "**Answer:** Sets automatically remove duplicates — each element appears only once.\n",
    "\n",
    "**Q14: How does the `in` keyword work differently for lists and dictionaries?**\n",
    "\n",
    "**Answer:** For lists, `in` checks if an element exists as a value (linear scan). For dictionaries, `in` checks for the presence of a key (hash lookup, average O(1)).\n",
    "\n",
    "**Q15: Can you modify the elements of a tuple? Explain.**\n",
    "\n",
    "**Answer:** You cannot change elements of a tuple directly (it's immutable). However, if a tuple contains a mutable object (like a list), that inner object can be modified.\n",
    "\n",
    "**Q16: What is a nested dictionary? Give an example of its use.**\n",
    "\n",
    "**Answer:** A nested dictionary is a dictionary that has dictionaries as values. Example use: storing user records: `{'alice': {'age': 25, 'city': 'Delhi'}, 'bob': {...}}`.\n",
    "\n",
    "**Q17: Explain time complexity of accessing elements in a dictionary.**\n",
    "\n",
    "**Answer:** Average-case O(1) due to hash table. Worst-case can degrade to O(n) in pathological hash collision scenarios.\n",
    "\n",
    "**Q18: In what situations are lists preferred over dictionaries?**\n",
    "\n",
    "**Answer:** When order matters, when you need indexed access by position, when elements are homogeneous and no key–value mapping is needed.\n",
    "\n",
    "**Q19: Why are dictionaries considered unordered (note: in modern Python 3.7+, insertion order is preserved)?**\n",
    "\n",
    "**Answer:** Historically dictionaries were unordered due to hash-based storage. As of Python 3.7, insertion order is preserved as an implementation detail; conceptually they remain hash tables optimized for fast lookup.\n",
    "\n",
    "**Q20: Explain the difference between a list and a dictionary in terms of data retrieval.**\n",
    "\n",
    "**Answer:** Lists retrieve by index (position-based) — O(1) for access by index; dictionaries retrieve by key (associative) — average O(1) for key lookup but may require hashing of the key.\n"
   ]
  },
  {
   "cell_type": "markdown",
   "id": "7b434bfb",
   "metadata": {},
   "source": [
    "## Practical Answers (All questions)"
   ]
  },
  {
   "cell_type": "markdown",
   "id": "53fc6bd7",
   "metadata": {},
   "source": [
    "### Strings & Lists — initial tasks"
   ]
  },
  {
   "cell_type": "code",
   "execution_count": null,
   "id": "b3cf154d",
   "metadata": {},
   "outputs": [],
   "source": [
    "# 1. Create a string with your name and print it\n",
    "name = 'VM s World'\n",
    "print(name)"
   ]
  },
  {
   "cell_type": "code",
   "execution_count": null,
   "id": "a1c312e4",
   "metadata": {},
   "outputs": [],
   "source": [
    "# 2. Find the length of the string 'Hello World'\n",
    "s = 'Hello World'\n",
    "print(len(s))"
   ]
  },
  {
   "cell_type": "code",
   "execution_count": null,
   "id": "283fecc0",
   "metadata": {},
   "outputs": [],
   "source": [
    "# 3. Slice first 3 characters from 'Python Programming'\n",
    "s = 'Python Programming'\n",
    "print(s[:3])"
   ]
  },
  {
   "cell_type": "code",
   "execution_count": null,
   "id": "46711f47",
   "metadata": {},
   "outputs": [],
   "source": [
    "# 4. Convert 'hello' to uppercase\n",
    "print('hello'.upper())"
   ]
  },
  {
   "cell_type": "code",
   "execution_count": null,
   "id": "f33d29da",
   "metadata": {},
   "outputs": [],
   "source": [
    "# 5. Replace 'apple' with 'orange'\n",
    "s = 'I like apple'\n",
    "print(s.replace('apple','orange'))"
   ]
  },
  {
   "cell_type": "code",
   "execution_count": null,
   "id": "15f32ec5",
   "metadata": {},
   "outputs": [],
   "source": [
    "# 6. Create a list with numbers 1 to 5 and print it\n",
    "lst = [1,2,3,4,5]\n",
    "print(lst)"
   ]
  },
  {
   "cell_type": "code",
   "execution_count": null,
   "id": "30748038",
   "metadata": {},
   "outputs": [],
   "source": [
    "# 7. Append 6 to the list\n",
    "lst.append(6)\n",
    "print(lst)"
   ]
  },
  {
   "cell_type": "code",
   "execution_count": null,
   "id": "ffe4160e",
   "metadata": {},
   "outputs": [],
   "source": [
    "# 8. Remove 3 from the list\n",
    "if 3 in lst:\n",
    "    lst.remove(3)\n",
    "print(lst)"
   ]
  },
  {
   "cell_type": "code",
   "execution_count": null,
   "id": "bb072715",
   "metadata": {},
   "outputs": [],
   "source": [
    "# 9. Access second element\n",
    "print(lst[1])"
   ]
  },
  {
   "cell_type": "code",
   "execution_count": null,
   "id": "3c8e8e0b",
   "metadata": {},
   "outputs": [],
   "source": [
    "# 10. Reverse the list\n",
    "print(lst[::-1])"
   ]
  },
  {
   "cell_type": "markdown",
   "id": "021888f6",
   "metadata": {},
   "source": [
    "### Numbered questions 11 - 30"
   ]
  },
  {
   "cell_type": "markdown",
   "id": "e0260cdd",
   "metadata": {},
   "source": [
    "**11. Create a tuple with 100,200,300 and print it**"
   ]
  },
  {
   "cell_type": "code",
   "execution_count": null,
   "id": "f2dba387",
   "metadata": {},
   "outputs": [],
   "source": [
    "t = (100,200,300)\n",
    "print(t)"
   ]
  },
  {
   "cell_type": "markdown",
   "id": "46159edc",
   "metadata": {},
   "source": [
    "**12. Access second-to-last element of ('red','green','blue','yellow')**"
   ]
  },
  {
   "cell_type": "code",
   "execution_count": null,
   "id": "29e0ca7a",
   "metadata": {},
   "outputs": [],
   "source": [
    "t2 = ('red','green','blue','yellow')\n",
    "print(t2[-2])"
   ]
  },
  {
   "cell_type": "markdown",
   "id": "0f2dd335",
   "metadata": {},
   "source": [
    "**13. Find minimum in (10,20,5,15)**"
   ]
  },
  {
   "cell_type": "code",
   "execution_count": null,
   "id": "b5568868",
   "metadata": {},
   "outputs": [],
   "source": [
    "t3 = (10,20,5,15)\n",
    "print(min(t3))"
   ]
  },
  {
   "cell_type": "markdown",
   "id": "424c1797",
   "metadata": {},
   "source": [
    "**14. Index of 'cat' in ('dog','cat','rabbit')**"
   ]
  },
  {
   "cell_type": "code",
   "execution_count": null,
   "id": "901c0693",
   "metadata": {},
   "outputs": [],
   "source": [
    "t4 = ('dog','cat','rabbit')\n",
    "print(t4.index('cat'))"
   ]
  },
  {
   "cell_type": "markdown",
   "id": "7c8f49de",
   "metadata": {},
   "source": [
    "**15. Tuple of three fruits and check 'kiwi' in it**"
   ]
  },
  {
   "cell_type": "code",
   "execution_count": null,
   "id": "b0fdf274",
   "metadata": {},
   "outputs": [],
   "source": [
    "fruits = ('apple','banana','mango')\n",
    "print('kiwi' in fruits)"
   ]
  },
  {
   "cell_type": "markdown",
   "id": "b1ee8407",
   "metadata": {},
   "source": [
    "**16. Create set {'a','b','c'} and print**"
   ]
  },
  {
   "cell_type": "code",
   "execution_count": null,
   "id": "4a13f333",
   "metadata": {},
   "outputs": [],
   "source": [
    "s = {'a','b','c'}\n",
    "print(s)"
   ]
  },
  {
   "cell_type": "markdown",
   "id": "01acbd45",
   "metadata": {},
   "source": [
    "**17. Clear all elements from set {1,2,3,4,5}**"
   ]
  },
  {
   "cell_type": "code",
   "execution_count": null,
   "id": "416f6607",
   "metadata": {},
   "outputs": [],
   "source": [
    "s2 = {1,2,3,4,5}\n",
    "s2.clear()\n",
    "print(s2)"
   ]
  },
  {
   "cell_type": "markdown",
   "id": "052f2756",
   "metadata": {},
   "source": [
    "**18. Remove element 4 from set {1,2,3,4}**"
   ]
  },
  {
   "cell_type": "code",
   "execution_count": null,
   "id": "e9833f16",
   "metadata": {},
   "outputs": [],
   "source": [
    "s3 = {1,2,3,4}\n",
    "s3.discard(4)\n",
    "print(s3)"
   ]
  },
  {
   "cell_type": "markdown",
   "id": "d26241f5",
   "metadata": {},
   "source": [
    "**19. Union of {1,2,3} and {3,4,5}**"
   ]
  },
  {
   "cell_type": "code",
   "execution_count": null,
   "id": "43d2fed5",
   "metadata": {},
   "outputs": [],
   "source": [
    "A = {1,2,3}\n",
    "B = {3,4,5}\n",
    "print(A.union(B))"
   ]
  },
  {
   "cell_type": "markdown",
   "id": "3ccb2f4a",
   "metadata": {},
   "source": [
    "**20. Intersection of {1,2,3} and {2,3,4}**"
   ]
  },
  {
   "cell_type": "code",
   "execution_count": null,
   "id": "ecfefb56",
   "metadata": {},
   "outputs": [],
   "source": [
    "A = {1,2,3}\n",
    "B = {2,3,4}\n",
    "print(A.intersection(B))"
   ]
  },
  {
   "cell_type": "markdown",
   "id": "43a216fa",
   "metadata": {},
   "source": [
    "**21. Create dict with keys name, age, city and print**"
   ]
  },
  {
   "cell_type": "code",
   "execution_count": null,
   "id": "e3055226",
   "metadata": {},
   "outputs": [],
   "source": [
    "student = {'name':'John','age':25,'city':'Delhi'}\n",
    "print(student)"
   ]
  },
  {
   "cell_type": "markdown",
   "id": "5467b7d7",
   "metadata": {},
   "source": [
    "**22. Add 'country':'USA' to {'name':'John','age':25}**"
   ]
  },
  {
   "cell_type": "code",
   "execution_count": null,
   "id": "ced5029c",
   "metadata": {},
   "outputs": [],
   "source": [
    "d = {'name':'John','age':25}\n",
    "d['country']='USA'\n",
    "print(d)"
   ]
  },
  {
   "cell_type": "markdown",
   "id": "9fbdf79e",
   "metadata": {},
   "source": [
    "**23. Access 'name' in {'name':'Alice','age':30}**"
   ]
  },
  {
   "cell_type": "code",
   "execution_count": null,
   "id": "687e08ea",
   "metadata": {},
   "outputs": [],
   "source": [
    "d2 = {'name':'Alice','age':30}\n",
    "print(d2['name'])"
   ]
  },
  {
   "cell_type": "markdown",
   "id": "f8154377",
   "metadata": {},
   "source": [
    "**24. Remove key 'age' from {'name':'Bob','age':22,'city':'New York'}**"
   ]
  },
  {
   "cell_type": "code",
   "execution_count": null,
   "id": "711eb32a",
   "metadata": {},
   "outputs": [],
   "source": [
    "d3 = {'name':'Bob','age':22,'city':'New York'}\n",
    "d3.pop('age', None)\n",
    "print(d3)"
   ]
  },
  {
   "cell_type": "markdown",
   "id": "510fa8d4",
   "metadata": {},
   "source": [
    "**25. Check if key 'city' exists in {'name':'Alice','city':'Paris'}**"
   ]
  },
  {
   "cell_type": "code",
   "execution_count": null,
   "id": "fee92318",
   "metadata": {},
   "outputs": [],
   "source": [
    "d4 = {'name':'Alice','city':'Paris'}\n",
    "print('city' in d4)"
   ]
  },
  {
   "cell_type": "markdown",
   "id": "2528983b",
   "metadata": {},
   "source": [
    "**26. Create a list, tuple, and dictionary, and print them**"
   ]
  },
  {
   "cell_type": "code",
   "execution_count": null,
   "id": "346739a6",
   "metadata": {},
   "outputs": [],
   "source": [
    "lst = [1,2,3]\n",
    "tpl = (4,5,6)\n",
    "dct = {'a':1,'b':2}\n",
    "print(lst)\n",
    "print(tpl)\n",
    "print(dct)"
   ]
  },
  {
   "cell_type": "markdown",
   "id": "c7b6a1ea",
   "metadata": {},
   "source": [
    "**27. Create a list of 5 random numbers between 1 and 100, sort ascending, and print**"
   ]
  },
  {
   "cell_type": "code",
   "execution_count": null,
   "id": "7c16c3e9",
   "metadata": {},
   "outputs": [],
   "source": [
    "import random\n",
    "rand_list = [random.randint(1,100) for _ in range(5)]\n",
    "rand_list.sort()\n",
    "print(rand_list)"
   ]
  },
  {
   "cell_type": "markdown",
   "id": "7a52acb6",
   "metadata": {},
   "source": [
    "**28. Create list with strings and print element at index 3**"
   ]
  },
  {
   "cell_type": "code",
   "execution_count": null,
   "id": "3bef2b81",
   "metadata": {},
   "outputs": [],
   "source": [
    "lst2 = ['a','b','c','d','e']\n",
    "print(lst2[3])"
   ]
  },
  {
   "cell_type": "markdown",
   "id": "63757e15",
   "metadata": {},
   "source": [
    "**29. Combine two dictionaries and print result**"
   ]
  },
  {
   "cell_type": "code",
   "execution_count": null,
   "id": "a9c52ac3",
   "metadata": {},
   "outputs": [],
   "source": [
    "d1 = {'x':1}\n",
    "d2 = {'y':2}\n",
    "combined = {**d1, **d2}\n",
    "print(combined)"
   ]
  },
  {
   "cell_type": "markdown",
   "id": "456c4766",
   "metadata": {},
   "source": [
    "**30. Convert a list of strings into a set**"
   ]
  },
  {
   "cell_type": "code",
   "execution_count": null,
   "id": "8949a466",
   "metadata": {},
   "outputs": [],
   "source": [
    "str_list = ['apple','banana','apple']\n",
    "print(set(str_list))"
   ]
  }
 ],
 "metadata": {},
 "nbformat": 4,
 "nbformat_minor": 5
}
